{
 "cells": [
  {
   "cell_type": "markdown",
   "metadata": {},
   "source": [
    "## 1. Get webpage using *requests*"
   ]
  },
  {
   "cell_type": "code",
   "execution_count": 11,
   "metadata": {},
   "outputs": [],
   "source": [
    "import requests\n",
    "import json\n",
    "import pandas as pd\n",
    "import time\n",
    "import random"
   ]
  },
  {
   "cell_type": "code",
   "execution_count": 2,
   "metadata": {},
   "outputs": [],
   "source": [
    "api_key = 'd1df14ff42be0d1321183faf17ae8724'\n",
    "city = 'New York'"
   ]
  },
  {
   "cell_type": "code",
   "execution_count": 3,
   "metadata": {},
   "outputs": [],
   "source": [
    "url = f'http://pro.openweathermap.org/data/2.5/weather?q={city}&appid={api_key}'"
   ]
  },
  {
   "cell_type": "code",
   "execution_count": 4,
   "metadata": {},
   "outputs": [],
   "source": [
    "response = requests.get(url)"
   ]
  },
  {
   "cell_type": "code",
   "execution_count": 5,
   "metadata": {},
   "outputs": [],
   "source": [
    "# Check if the request was successful\n",
    "if response.status_code == 200:\n",
    "    # Extract the content as a string\n",
    "    webpage = response.text\n",
    "    \n",
    "    # Open the file in binary write mode\n",
    "    with open(\"QuotesPages.html\", \"wb\") as f:\n",
    "        # Encode the string to bytes and write it to the file\n",
    "        f.write(webpage.encode('utf-8'))\n",
    "else:\n",
    "    print(f\"Failed to retrieve the webpage. Status code: {response.status_code}\")"
   ]
  },
  {
   "cell_type": "code",
   "execution_count": 6,
   "metadata": {},
   "outputs": [
    {
     "name": "stdout",
     "output_type": "stream",
     "text": [
      "{\"coord\":{\"lon\":-74.006,\"lat\":40.7143},\"weather\":[{\"id\":803,\"main\":\"Clouds\",\"description\":\"broken clouds\",\"icon\":\"04d\"}],\"base\":\"stations\",\"main\":{\"temp\":299.26,\"feels_like\":299.26,\"temp_min\":293.7,\"temp_max\":305.12,\"pressure\":1003,\"humidity\":68},\"visibility\":10000,\"wind\":{\"speed\":0.89,\"deg\":238,\"gust\":2.24},\"clouds\":{\"all\":75},\"dt\":1719446433,\"sys\":{\"type\":1,\"id\":4610,\"country\":\"US\",\"sunrise\":1719393993,\"sunset\":1719448274},\"timezone\":-14400,\"id\":5128581,\"name\":\"New York\",\"cod\":200}\n"
     ]
    }
   ],
   "source": [
    "print(webpage)"
   ]
  },
  {
   "cell_type": "code",
   "execution_count": 7,
   "metadata": {},
   "outputs": [],
   "source": [
    "if response.status_code == 200:\n",
    "    weather_data = response.json()\n",
    "\n",
    "else:\n",
    "    print(f\"Failed to retrieve the weather data. Status code: {response.status_code}\")"
   ]
  },
  {
   "cell_type": "markdown",
   "metadata": {},
   "source": [
    "## 2. Get specific contents "
   ]
  },
  {
   "cell_type": "code",
   "execution_count": 8,
   "metadata": {},
   "outputs": [
    {
     "name": "stdout",
     "output_type": "stream",
     "text": [
      "{\n",
      "    \"coord\": {\n",
      "        \"lon\": -74.006,\n",
      "        \"lat\": 40.7143\n",
      "    },\n",
      "    \"weather\": [\n",
      "        {\n",
      "            \"id\": 803,\n",
      "            \"main\": \"Clouds\",\n",
      "            \"description\": \"broken clouds\",\n",
      "            \"icon\": \"04d\"\n",
      "        }\n",
      "    ],\n",
      "    \"base\": \"stations\",\n",
      "    \"main\": {\n",
      "        \"temp\": 299.26,\n",
      "        \"feels_like\": 299.26,\n",
      "        \"temp_min\": 293.7,\n",
      "        \"temp_max\": 305.12,\n",
      "        \"pressure\": 1003,\n",
      "        \"humidity\": 68\n",
      "    },\n",
      "    \"visibility\": 10000,\n",
      "    \"wind\": {\n",
      "        \"speed\": 0.89,\n",
      "        \"deg\": 238,\n",
      "        \"gust\": 2.24\n",
      "    },\n",
      "    \"clouds\": {\n",
      "        \"all\": 75\n",
      "    },\n",
      "    \"dt\": 1719446433,\n",
      "    \"sys\": {\n",
      "        \"type\": 1,\n",
      "        \"id\": 4610,\n",
      "        \"country\": \"US\",\n",
      "        \"sunrise\": 1719393993,\n",
      "        \"sunset\": 1719448274\n",
      "    },\n",
      "    \"timezone\": -14400,\n",
      "    \"id\": 5128581,\n",
      "    \"name\": \"New York\",\n",
      "    \"cod\": 200\n",
      "}\n"
     ]
    }
   ],
   "source": [
    "print(json.dumps(weather_data, indent=4))"
   ]
  },
  {
   "cell_type": "code",
   "execution_count": 9,
   "metadata": {},
   "outputs": [],
   "source": [
    "df = pd.json_normalize(weather_data)"
   ]
  },
  {
   "cell_type": "code",
   "execution_count": 10,
   "metadata": {},
   "outputs": [
    {
     "data": {
      "text/html": [
       "<div>\n",
       "<style scoped>\n",
       "    .dataframe tbody tr th:only-of-type {\n",
       "        vertical-align: middle;\n",
       "    }\n",
       "\n",
       "    .dataframe tbody tr th {\n",
       "        vertical-align: top;\n",
       "    }\n",
       "\n",
       "    .dataframe thead th {\n",
       "        text-align: right;\n",
       "    }\n",
       "</style>\n",
       "<table border=\"1\" class=\"dataframe\">\n",
       "  <thead>\n",
       "    <tr style=\"text-align: right;\">\n",
       "      <th></th>\n",
       "      <th>weather</th>\n",
       "      <th>base</th>\n",
       "      <th>visibility</th>\n",
       "      <th>dt</th>\n",
       "      <th>timezone</th>\n",
       "      <th>id</th>\n",
       "      <th>name</th>\n",
       "      <th>cod</th>\n",
       "      <th>coord.lon</th>\n",
       "      <th>coord.lat</th>\n",
       "      <th>...</th>\n",
       "      <th>main.humidity</th>\n",
       "      <th>wind.speed</th>\n",
       "      <th>wind.deg</th>\n",
       "      <th>wind.gust</th>\n",
       "      <th>clouds.all</th>\n",
       "      <th>sys.type</th>\n",
       "      <th>sys.id</th>\n",
       "      <th>sys.country</th>\n",
       "      <th>sys.sunrise</th>\n",
       "      <th>sys.sunset</th>\n",
       "    </tr>\n",
       "  </thead>\n",
       "  <tbody>\n",
       "    <tr>\n",
       "      <th>0</th>\n",
       "      <td>[{'id': 803, 'main': 'Clouds', 'description': ...</td>\n",
       "      <td>stations</td>\n",
       "      <td>10000</td>\n",
       "      <td>1719446433</td>\n",
       "      <td>-14400</td>\n",
       "      <td>5128581</td>\n",
       "      <td>New York</td>\n",
       "      <td>200</td>\n",
       "      <td>-74.006</td>\n",
       "      <td>40.7143</td>\n",
       "      <td>...</td>\n",
       "      <td>68</td>\n",
       "      <td>0.89</td>\n",
       "      <td>238</td>\n",
       "      <td>2.24</td>\n",
       "      <td>75</td>\n",
       "      <td>1</td>\n",
       "      <td>4610</td>\n",
       "      <td>US</td>\n",
       "      <td>1719393993</td>\n",
       "      <td>1719448274</td>\n",
       "    </tr>\n",
       "  </tbody>\n",
       "</table>\n",
       "<p>1 rows × 25 columns</p>\n",
       "</div>"
      ],
      "text/plain": [
       "                                             weather      base  visibility  \\\n",
       "0  [{'id': 803, 'main': 'Clouds', 'description': ...  stations       10000   \n",
       "\n",
       "           dt  timezone       id      name  cod  coord.lon  coord.lat  ...  \\\n",
       "0  1719446433    -14400  5128581  New York  200    -74.006    40.7143  ...   \n",
       "\n",
       "   main.humidity  wind.speed  wind.deg  wind.gust  clouds.all  sys.type  \\\n",
       "0             68        0.89       238       2.24          75         1   \n",
       "\n",
       "   sys.id  sys.country  sys.sunrise  sys.sunset  \n",
       "0    4610           US   1719393993  1719448274  \n",
       "\n",
       "[1 rows x 25 columns]"
      ]
     },
     "execution_count": 10,
     "metadata": {},
     "output_type": "execute_result"
    }
   ],
   "source": [
    "df"
   ]
  },
  {
   "cell_type": "markdown",
   "metadata": {},
   "source": [
    "## 3. Multiple Cities"
   ]
  },
  {
   "cell_type": "code",
   "execution_count": 13,
   "metadata": {},
   "outputs": [
    {
     "name": "stdout",
     "output_type": "stream",
     "text": [
      "Failed to retrieve data for Winston–Salem. Status code: 404\n",
      "           City  Temperature (C)  Humidity (%)           Weather\n",
      "0      New York            26.45            63     broken clouds\n",
      "1   Los Angeles            26.03            58         clear sky\n",
      "2       Chicago            26.97            44  scattered clouds\n",
      "3       Houston            30.42            73      thunderstorm\n",
      "4       Phoenix            42.38            25     broken clouds\n",
      "..          ...              ...           ...               ...\n",
      "92       Irving            35.58            54  scattered clouds\n",
      "93      Hialeah            28.25            79  scattered clouds\n",
      "94      Fremont            22.49            57         clear sky\n",
      "95        Boise            34.75            31         clear sky\n",
      "96     Richmond            29.53            60     broken clouds\n",
      "\n",
      "[97 rows x 4 columns]\n"
     ]
    }
   ],
   "source": [
    "# List of the 100 largest cities in the US\n",
    "cities = [\n",
    "    \"New York\", \"Los Angeles\",\"Chicago\", \"Houston\", \"Phoenix\", \"Philadelphia\",\n",
    "    \"San Antonio\", \"San Diego\", \"Dallas\", \"San Jose\", \"Austin\", \"Jacksonville\",\n",
    "    \"Fort Worth\", \"Columbus\", \"San Francisco\", \"Charlotte\", \"Indianapolis\",\n",
    "    \"Seattle\", \"Denver\", \"Washington\", \"Boston\", \"El Paso\", \"Nashville\", \"Detroit\",\n",
    "    \"Oklahoma City\", \"Portland\", \"Las Vegas\", \"Memphis\", \"Louisville\", \"Baltimore\",\n",
    "    \"Milwaukee\", \"Albuquerque\", \"Tucson\", \"Fresno\", \"Mesa\", \"Sacramento\",\n",
    "    \"Atlanta\", \"Kansas City\", \"Colorado Springs\", \"Omaha\", \"Raleigh\", \"Miami\",\n",
    "    \"Long Beach\", \"Virginia Beach\", \"Oakland\", \"Minneapolis\", \"Tulsa\", \"Arlington\",\n",
    "    \"New Orleans\", \"Wichita\", \"Cleveland\", \"Tampa\", \"Bakersfield\", \"Aurora\",\n",
    "    \"Honolulu\", \"Anaheim\", \"Santa Ana\", \"Corpus Christi\", \"Riverside\", \"Lexington\",\n",
    "    \"Stockton\", \"Henderson\", \"Saint Paul\", \"St. Louis\", \"Cincinnati\", \"Pittsburgh\",\n",
    "    \"Greensboro\", \"Anchorage\", \"Plano\", \"Lincoln\", \"Orlando\", \"Irvine\",\n",
    "    \"Newark\", \"Toledo\", \"Durham\", \"Chula Vista\", \"Fort Wayne\", \"Jersey City\",\n",
    "    \"St. Petersburg\", \"Laredo\", \"Madison\", \"Chandler\", \"Buffalo\", \"Lubbock\",\n",
    "    \"Scottsdale\", \"Reno\", \"Glendale\", \"Gilbert\", \"Winston–Salem\", \"North Las Vegas\",\n",
    "    \"Norfolk\", \"Chesapeake\", \"Garland\", \"Irving\", \"Hialeah\", \"Fremont\", \"Boise\",\n",
    "    \"Richmond\"\n",
    "]\n",
    "\n",
    "# Base URL for the OpenWeatherMap API\n",
    "base_url = 'http://pro.openweathermap.org/data/2.5/weather'\n",
    "\n",
    "# List to store weather data\n",
    "weather_data = []\n",
    "\n",
    "# Loop through the cities and fetch weather data\n",
    "for city in cities:\n",
    "    # Construct the API request URL\n",
    "    url = f'{base_url}?q={city}&appid={api_key}&units=metric'\n",
    "    \n",
    "    # Send GET request to the URL\n",
    "    response = requests.get(url)\n",
    "    \n",
    "    # Check if the request was successful\n",
    "    if response.status_code == 200:\n",
    "        # Load JSON data from the response\n",
    "        data = response.json()\n",
    "        # Extract relevant information\n",
    "        city_weather = {\n",
    "            \"City\": data['name'],\n",
    "            \"Temperature (C)\": data['main']['temp'],\n",
    "            \"Humidity (%)\": data['main']['humidity'],\n",
    "            \"Weather\": data['weather'][0]['description']\n",
    "        }\n",
    "        # Append to the list\n",
    "        weather_data.append(city_weather)\n",
    "    else:\n",
    "        print(f\"Failed to retrieve data for {city}. Status code: {response.status_code}\")\n",
    "    \n",
    "    # Sleep to avoid hitting the API rate limit\n",
    "    time.sleep(random.uniform(1, 1.5))\n",
    "\n",
    "# Create a DataFrame from the weather data\n",
    "df = pd.DataFrame(weather_data)\n",
    "\n",
    "# Display the DataFrame\n",
    "print(df)\n",
    "\n",
    "# Save the DataFrame to a CSV file\n",
    "df.to_csv('Sample_data.csv', index=False)\n"
   ]
  }
 ],
 "metadata": {
  "kernelspec": {
   "display_name": "Python 3",
   "language": "python",
   "name": "python3"
  },
  "language_info": {
   "codemirror_mode": {
    "name": "ipython",
    "version": 3
   },
   "file_extension": ".py",
   "mimetype": "text/x-python",
   "name": "python",
   "nbconvert_exporter": "python",
   "pygments_lexer": "ipython3",
   "version": "3.11.7"
  }
 },
 "nbformat": 4,
 "nbformat_minor": 2
}
